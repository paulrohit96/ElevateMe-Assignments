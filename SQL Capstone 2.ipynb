{
  "nbformat": 4,
  "nbformat_minor": 0,
  "metadata": {
    "colab": {
      "provenance": []
    },
    "kernelspec": {
      "name": "python3",
      "display_name": "Python 3"
    },
    "language_info": {
      "name": "python"
    }
  },
  "cells": [
    {
      "cell_type": "code",
      "execution_count": 1,
      "metadata": {
        "id": "lIGwOcVZTuBH"
      },
      "outputs": [],
      "source": [
        "import sqlite3\n",
        "import pandas as pd"
      ]
    },
    {
      "cell_type": "code",
      "source": [
        "df = pd.read_csv('/content/WA_Fn-UseC_-HR-Employee-Attrition.csv')"
      ],
      "metadata": {
        "id": "HID4448zUAUJ"
      },
      "execution_count": 2,
      "outputs": []
    },
    {
      "cell_type": "code",
      "source": [
        "conn=sqlite3.connect('mytable.db')"
      ],
      "metadata": {
        "id": "CVg5ucmxUPiM"
      },
      "execution_count": 3,
      "outputs": []
    },
    {
      "cell_type": "code",
      "source": [
        "df.to_sql(name=\"employee\",con=conn,if_exists='replace',index=False)\n",
        "conn.commit()"
      ],
      "metadata": {
        "id": "DDbQoOX7USog"
      },
      "execution_count": 4,
      "outputs": []
    },
    {
      "cell_type": "code",
      "source": [
        "%load_ext sql\n",
        "%sql sqlite:///mytable.db"
      ],
      "metadata": {
        "id": "FXqwp-fkUk6F"
      },
      "execution_count": 5,
      "outputs": []
    },
    {
      "cell_type": "code",
      "metadata": {
        "colab": {
          "base_uri": "https://localhost:8080/",
          "height": 582
        },
        "id": "bb205e1b",
        "outputId": "72abb7cf-b52b-4370-886a-759884c6561f"
      },
      "source": [
        "query = \"select * from employee where Age>35 AND EducationField = 'Medical'\"\n",
        "result_df = pd.read_sql_query(query, conn)\n",
        "display(result_df)"
      ],
      "execution_count": 6,
      "outputs": [
        {
          "output_type": "display_data",
          "data": {
            "text/plain": [
              "     Age Attrition     BusinessTravel  DailyRate              Department  \\\n",
              "0     59        No      Travel_Rarely       1324  Research & Development   \n",
              "1     36        No      Travel_Rarely       1299  Research & Development   \n",
              "2     44        No      Travel_Rarely        477  Research & Development   \n",
              "3     43        No      Travel_Rarely       1273  Research & Development   \n",
              "4     50        No      Travel_Rarely        989  Research & Development   \n",
              "..   ...       ...                ...        ...                     ...   \n",
              "227   36        No      Travel_Rarely        557                   Sales   \n",
              "228   40        No      Travel_Rarely       1194  Research & Development   \n",
              "229   36        No  Travel_Frequently        884  Research & Development   \n",
              "230   39        No      Travel_Rarely        613  Research & Development   \n",
              "231   49        No  Travel_Frequently       1023                   Sales   \n",
              "\n",
              "     DistanceFromHome  Education EducationField  EmployeeCount  \\\n",
              "0                   3          3        Medical              1   \n",
              "1                  27          3        Medical              1   \n",
              "2                   7          4        Medical              1   \n",
              "3                   2          2        Medical              1   \n",
              "4                   7          2        Medical              1   \n",
              "..                ...        ...            ...            ...   \n",
              "227                 3          3        Medical              1   \n",
              "228                 2          4        Medical              1   \n",
              "229                23          2        Medical              1   \n",
              "230                 6          1        Medical              1   \n",
              "231                 2          3        Medical              1   \n",
              "\n",
              "     EmployeeNumber  ...  RelationshipSatisfaction StandardHours  \\\n",
              "0                10  ...                         1            80   \n",
              "1                13  ...                         2            80   \n",
              "2                36  ...                         4            80   \n",
              "3                46  ...                         4            80   \n",
              "4                80  ...                         4            80   \n",
              "..              ...  ...                       ...           ...   \n",
              "227            2024  ...                         3            80   \n",
              "228            2051  ...                         2            80   \n",
              "229            2061  ...                         3            80   \n",
              "230            2062  ...                         1            80   \n",
              "231            2065  ...                         4            80   \n",
              "\n",
              "     StockOptionLevel  TotalWorkingYears  TrainingTimesLastYear  \\\n",
              "0                   3                 12                      3   \n",
              "1                   2                 17                      3   \n",
              "2                   1                 24                      4   \n",
              "3                   2                  6                      3   \n",
              "4                   1                 29                      2   \n",
              "..                ...                ...                    ...   \n",
              "227                 2                 10                      2   \n",
              "228                 3                 20                      2   \n",
              "229                 1                 17                      3   \n",
              "230                 1                  9                      5   \n",
              "231                 0                 17                      3   \n",
              "\n",
              "    WorkLifeBalance  YearsAtCompany YearsInCurrentRole  \\\n",
              "0                 2               1                  0   \n",
              "1                 2               7                  7   \n",
              "2                 3              22                  6   \n",
              "3                 2               5                  3   \n",
              "4                 2              27                  3   \n",
              "..              ...             ...                ...   \n",
              "227               3               9                  7   \n",
              "228               3               5                  3   \n",
              "229               3               5                  2   \n",
              "230               3               7                  7   \n",
              "231               2               9                  6   \n",
              "\n",
              "     YearsSinceLastPromotion  YearsWithCurrManager  \n",
              "0                          0                     0  \n",
              "1                          7                     7  \n",
              "2                          5                    17  \n",
              "3                          1                     4  \n",
              "4                         13                     8  \n",
              "..                       ...                   ...  \n",
              "227                        3                     4  \n",
              "228                        0                     2  \n",
              "229                        0                     3  \n",
              "230                        1                     7  \n",
              "231                        0                     8  \n",
              "\n",
              "[232 rows x 35 columns]"
            ],
            "text/html": [
              "\n",
              "  <div id=\"df-9e983598-0624-4142-83e9-37a806e7ac05\" class=\"colab-df-container\">\n",
              "    <div>\n",
              "<style scoped>\n",
              "    .dataframe tbody tr th:only-of-type {\n",
              "        vertical-align: middle;\n",
              "    }\n",
              "\n",
              "    .dataframe tbody tr th {\n",
              "        vertical-align: top;\n",
              "    }\n",
              "\n",
              "    .dataframe thead th {\n",
              "        text-align: right;\n",
              "    }\n",
              "</style>\n",
              "<table border=\"1\" class=\"dataframe\">\n",
              "  <thead>\n",
              "    <tr style=\"text-align: right;\">\n",
              "      <th></th>\n",
              "      <th>Age</th>\n",
              "      <th>Attrition</th>\n",
              "      <th>BusinessTravel</th>\n",
              "      <th>DailyRate</th>\n",
              "      <th>Department</th>\n",
              "      <th>DistanceFromHome</th>\n",
              "      <th>Education</th>\n",
              "      <th>EducationField</th>\n",
              "      <th>EmployeeCount</th>\n",
              "      <th>EmployeeNumber</th>\n",
              "      <th>...</th>\n",
              "      <th>RelationshipSatisfaction</th>\n",
              "      <th>StandardHours</th>\n",
              "      <th>StockOptionLevel</th>\n",
              "      <th>TotalWorkingYears</th>\n",
              "      <th>TrainingTimesLastYear</th>\n",
              "      <th>WorkLifeBalance</th>\n",
              "      <th>YearsAtCompany</th>\n",
              "      <th>YearsInCurrentRole</th>\n",
              "      <th>YearsSinceLastPromotion</th>\n",
              "      <th>YearsWithCurrManager</th>\n",
              "    </tr>\n",
              "  </thead>\n",
              "  <tbody>\n",
              "    <tr>\n",
              "      <th>0</th>\n",
              "      <td>59</td>\n",
              "      <td>No</td>\n",
              "      <td>Travel_Rarely</td>\n",
              "      <td>1324</td>\n",
              "      <td>Research &amp; Development</td>\n",
              "      <td>3</td>\n",
              "      <td>3</td>\n",
              "      <td>Medical</td>\n",
              "      <td>1</td>\n",
              "      <td>10</td>\n",
              "      <td>...</td>\n",
              "      <td>1</td>\n",
              "      <td>80</td>\n",
              "      <td>3</td>\n",
              "      <td>12</td>\n",
              "      <td>3</td>\n",
              "      <td>2</td>\n",
              "      <td>1</td>\n",
              "      <td>0</td>\n",
              "      <td>0</td>\n",
              "      <td>0</td>\n",
              "    </tr>\n",
              "    <tr>\n",
              "      <th>1</th>\n",
              "      <td>36</td>\n",
              "      <td>No</td>\n",
              "      <td>Travel_Rarely</td>\n",
              "      <td>1299</td>\n",
              "      <td>Research &amp; Development</td>\n",
              "      <td>27</td>\n",
              "      <td>3</td>\n",
              "      <td>Medical</td>\n",
              "      <td>1</td>\n",
              "      <td>13</td>\n",
              "      <td>...</td>\n",
              "      <td>2</td>\n",
              "      <td>80</td>\n",
              "      <td>2</td>\n",
              "      <td>17</td>\n",
              "      <td>3</td>\n",
              "      <td>2</td>\n",
              "      <td>7</td>\n",
              "      <td>7</td>\n",
              "      <td>7</td>\n",
              "      <td>7</td>\n",
              "    </tr>\n",
              "    <tr>\n",
              "      <th>2</th>\n",
              "      <td>44</td>\n",
              "      <td>No</td>\n",
              "      <td>Travel_Rarely</td>\n",
              "      <td>477</td>\n",
              "      <td>Research &amp; Development</td>\n",
              "      <td>7</td>\n",
              "      <td>4</td>\n",
              "      <td>Medical</td>\n",
              "      <td>1</td>\n",
              "      <td>36</td>\n",
              "      <td>...</td>\n",
              "      <td>4</td>\n",
              "      <td>80</td>\n",
              "      <td>1</td>\n",
              "      <td>24</td>\n",
              "      <td>4</td>\n",
              "      <td>3</td>\n",
              "      <td>22</td>\n",
              "      <td>6</td>\n",
              "      <td>5</td>\n",
              "      <td>17</td>\n",
              "    </tr>\n",
              "    <tr>\n",
              "      <th>3</th>\n",
              "      <td>43</td>\n",
              "      <td>No</td>\n",
              "      <td>Travel_Rarely</td>\n",
              "      <td>1273</td>\n",
              "      <td>Research &amp; Development</td>\n",
              "      <td>2</td>\n",
              "      <td>2</td>\n",
              "      <td>Medical</td>\n",
              "      <td>1</td>\n",
              "      <td>46</td>\n",
              "      <td>...</td>\n",
              "      <td>4</td>\n",
              "      <td>80</td>\n",
              "      <td>2</td>\n",
              "      <td>6</td>\n",
              "      <td>3</td>\n",
              "      <td>2</td>\n",
              "      <td>5</td>\n",
              "      <td>3</td>\n",
              "      <td>1</td>\n",
              "      <td>4</td>\n",
              "    </tr>\n",
              "    <tr>\n",
              "      <th>4</th>\n",
              "      <td>50</td>\n",
              "      <td>No</td>\n",
              "      <td>Travel_Rarely</td>\n",
              "      <td>989</td>\n",
              "      <td>Research &amp; Development</td>\n",
              "      <td>7</td>\n",
              "      <td>2</td>\n",
              "      <td>Medical</td>\n",
              "      <td>1</td>\n",
              "      <td>80</td>\n",
              "      <td>...</td>\n",
              "      <td>4</td>\n",
              "      <td>80</td>\n",
              "      <td>1</td>\n",
              "      <td>29</td>\n",
              "      <td>2</td>\n",
              "      <td>2</td>\n",
              "      <td>27</td>\n",
              "      <td>3</td>\n",
              "      <td>13</td>\n",
              "      <td>8</td>\n",
              "    </tr>\n",
              "    <tr>\n",
              "      <th>...</th>\n",
              "      <td>...</td>\n",
              "      <td>...</td>\n",
              "      <td>...</td>\n",
              "      <td>...</td>\n",
              "      <td>...</td>\n",
              "      <td>...</td>\n",
              "      <td>...</td>\n",
              "      <td>...</td>\n",
              "      <td>...</td>\n",
              "      <td>...</td>\n",
              "      <td>...</td>\n",
              "      <td>...</td>\n",
              "      <td>...</td>\n",
              "      <td>...</td>\n",
              "      <td>...</td>\n",
              "      <td>...</td>\n",
              "      <td>...</td>\n",
              "      <td>...</td>\n",
              "      <td>...</td>\n",
              "      <td>...</td>\n",
              "      <td>...</td>\n",
              "    </tr>\n",
              "    <tr>\n",
              "      <th>227</th>\n",
              "      <td>36</td>\n",
              "      <td>No</td>\n",
              "      <td>Travel_Rarely</td>\n",
              "      <td>557</td>\n",
              "      <td>Sales</td>\n",
              "      <td>3</td>\n",
              "      <td>3</td>\n",
              "      <td>Medical</td>\n",
              "      <td>1</td>\n",
              "      <td>2024</td>\n",
              "      <td>...</td>\n",
              "      <td>3</td>\n",
              "      <td>80</td>\n",
              "      <td>2</td>\n",
              "      <td>10</td>\n",
              "      <td>2</td>\n",
              "      <td>3</td>\n",
              "      <td>9</td>\n",
              "      <td>7</td>\n",
              "      <td>3</td>\n",
              "      <td>4</td>\n",
              "    </tr>\n",
              "    <tr>\n",
              "      <th>228</th>\n",
              "      <td>40</td>\n",
              "      <td>No</td>\n",
              "      <td>Travel_Rarely</td>\n",
              "      <td>1194</td>\n",
              "      <td>Research &amp; Development</td>\n",
              "      <td>2</td>\n",
              "      <td>4</td>\n",
              "      <td>Medical</td>\n",
              "      <td>1</td>\n",
              "      <td>2051</td>\n",
              "      <td>...</td>\n",
              "      <td>2</td>\n",
              "      <td>80</td>\n",
              "      <td>3</td>\n",
              "      <td>20</td>\n",
              "      <td>2</td>\n",
              "      <td>3</td>\n",
              "      <td>5</td>\n",
              "      <td>3</td>\n",
              "      <td>0</td>\n",
              "      <td>2</td>\n",
              "    </tr>\n",
              "    <tr>\n",
              "      <th>229</th>\n",
              "      <td>36</td>\n",
              "      <td>No</td>\n",
              "      <td>Travel_Frequently</td>\n",
              "      <td>884</td>\n",
              "      <td>Research &amp; Development</td>\n",
              "      <td>23</td>\n",
              "      <td>2</td>\n",
              "      <td>Medical</td>\n",
              "      <td>1</td>\n",
              "      <td>2061</td>\n",
              "      <td>...</td>\n",
              "      <td>3</td>\n",
              "      <td>80</td>\n",
              "      <td>1</td>\n",
              "      <td>17</td>\n",
              "      <td>3</td>\n",
              "      <td>3</td>\n",
              "      <td>5</td>\n",
              "      <td>2</td>\n",
              "      <td>0</td>\n",
              "      <td>3</td>\n",
              "    </tr>\n",
              "    <tr>\n",
              "      <th>230</th>\n",
              "      <td>39</td>\n",
              "      <td>No</td>\n",
              "      <td>Travel_Rarely</td>\n",
              "      <td>613</td>\n",
              "      <td>Research &amp; Development</td>\n",
              "      <td>6</td>\n",
              "      <td>1</td>\n",
              "      <td>Medical</td>\n",
              "      <td>1</td>\n",
              "      <td>2062</td>\n",
              "      <td>...</td>\n",
              "      <td>1</td>\n",
              "      <td>80</td>\n",
              "      <td>1</td>\n",
              "      <td>9</td>\n",
              "      <td>5</td>\n",
              "      <td>3</td>\n",
              "      <td>7</td>\n",
              "      <td>7</td>\n",
              "      <td>1</td>\n",
              "      <td>7</td>\n",
              "    </tr>\n",
              "    <tr>\n",
              "      <th>231</th>\n",
              "      <td>49</td>\n",
              "      <td>No</td>\n",
              "      <td>Travel_Frequently</td>\n",
              "      <td>1023</td>\n",
              "      <td>Sales</td>\n",
              "      <td>2</td>\n",
              "      <td>3</td>\n",
              "      <td>Medical</td>\n",
              "      <td>1</td>\n",
              "      <td>2065</td>\n",
              "      <td>...</td>\n",
              "      <td>4</td>\n",
              "      <td>80</td>\n",
              "      <td>0</td>\n",
              "      <td>17</td>\n",
              "      <td>3</td>\n",
              "      <td>2</td>\n",
              "      <td>9</td>\n",
              "      <td>6</td>\n",
              "      <td>0</td>\n",
              "      <td>8</td>\n",
              "    </tr>\n",
              "  </tbody>\n",
              "</table>\n",
              "<p>232 rows × 35 columns</p>\n",
              "</div>\n",
              "    <div class=\"colab-df-buttons\">\n",
              "\n",
              "  <div class=\"colab-df-container\">\n",
              "    <button class=\"colab-df-convert\" onclick=\"convertToInteractive('df-9e983598-0624-4142-83e9-37a806e7ac05')\"\n",
              "            title=\"Convert this dataframe to an interactive table.\"\n",
              "            style=\"display:none;\">\n",
              "\n",
              "  <svg xmlns=\"http://www.w3.org/2000/svg\" height=\"24px\" viewBox=\"0 -960 960 960\">\n",
              "    <path d=\"M120-120v-720h720v720H120Zm60-500h600v-160H180v160Zm220 220h160v-160H400v160Zm0 220h160v-160H400v160ZM180-400h160v-160H180v160Zm440 0h160v-160H620v160ZM180-180h160v-160H180v160Zm440 0h160v-160H620v160Z\"/>\n",
              "  </svg>\n",
              "    </button>\n",
              "\n",
              "  <style>\n",
              "    .colab-df-container {\n",
              "      display:flex;\n",
              "      gap: 12px;\n",
              "    }\n",
              "\n",
              "    .colab-df-convert {\n",
              "      background-color: #E8F0FE;\n",
              "      border: none;\n",
              "      border-radius: 50%;\n",
              "      cursor: pointer;\n",
              "      display: none;\n",
              "      fill: #1967D2;\n",
              "      height: 32px;\n",
              "      padding: 0 0 0 0;\n",
              "      width: 32px;\n",
              "    }\n",
              "\n",
              "    .colab-df-convert:hover {\n",
              "      background-color: #E2EBFA;\n",
              "      box-shadow: 0px 1px 2px rgba(60, 64, 67, 0.3), 0px 1px 3px 1px rgba(60, 64, 67, 0.15);\n",
              "      fill: #174EA6;\n",
              "    }\n",
              "\n",
              "    .colab-df-buttons div {\n",
              "      margin-bottom: 4px;\n",
              "    }\n",
              "\n",
              "    [theme=dark] .colab-df-convert {\n",
              "      background-color: #3B4455;\n",
              "      fill: #D2E3FC;\n",
              "    }\n",
              "\n",
              "    [theme=dark] .colab-df-convert:hover {\n",
              "      background-color: #434B5C;\n",
              "      box-shadow: 0px 1px 3px 1px rgba(0, 0, 0, 0.15);\n",
              "      filter: drop-shadow(0px 1px 2px rgba(0, 0, 0, 0.3));\n",
              "      fill: #FFFFFF;\n",
              "    }\n",
              "  </style>\n",
              "\n",
              "    <script>\n",
              "      const buttonEl =\n",
              "        document.querySelector('#df-9e983598-0624-4142-83e9-37a806e7ac05 button.colab-df-convert');\n",
              "      buttonEl.style.display =\n",
              "        google.colab.kernel.accessAllowed ? 'block' : 'none';\n",
              "\n",
              "      async function convertToInteractive(key) {\n",
              "        const element = document.querySelector('#df-9e983598-0624-4142-83e9-37a806e7ac05');\n",
              "        const dataTable =\n",
              "          await google.colab.kernel.invokeFunction('convertToInteractive',\n",
              "                                                    [key], {});\n",
              "        if (!dataTable) return;\n",
              "\n",
              "        const docLinkHtml = 'Like what you see? Visit the ' +\n",
              "          '<a target=\"_blank\" href=https://colab.research.google.com/notebooks/data_table.ipynb>data table notebook</a>'\n",
              "          + ' to learn more about interactive tables.';\n",
              "        element.innerHTML = '';\n",
              "        dataTable['output_type'] = 'display_data';\n",
              "        await google.colab.output.renderOutput(dataTable, element);\n",
              "        const docLink = document.createElement('div');\n",
              "        docLink.innerHTML = docLinkHtml;\n",
              "        element.appendChild(docLink);\n",
              "      }\n",
              "    </script>\n",
              "  </div>\n",
              "\n",
              "\n",
              "    <div id=\"df-1ece4ee2-eccc-45f3-b4f9-cae8864c42a5\">\n",
              "      <button class=\"colab-df-quickchart\" onclick=\"quickchart('df-1ece4ee2-eccc-45f3-b4f9-cae8864c42a5')\"\n",
              "                title=\"Suggest charts\"\n",
              "                style=\"display:none;\">\n",
              "\n",
              "<svg xmlns=\"http://www.w3.org/2000/svg\" height=\"24px\"viewBox=\"0 0 24 24\"\n",
              "     width=\"24px\">\n",
              "    <g>\n",
              "        <path d=\"M19 3H5c-1.1 0-2 .9-2 2v14c0 1.1.9 2 2 2h14c1.1 0 2-.9 2-2V5c0-1.1-.9-2-2-2zM9 17H7v-7h2v7zm4 0h-2V7h2v10zm4 0h-2v-4h2v4z\"/>\n",
              "    </g>\n",
              "</svg>\n",
              "      </button>\n",
              "\n",
              "<style>\n",
              "  .colab-df-quickchart {\n",
              "      --bg-color: #E8F0FE;\n",
              "      --fill-color: #1967D2;\n",
              "      --hover-bg-color: #E2EBFA;\n",
              "      --hover-fill-color: #174EA6;\n",
              "      --disabled-fill-color: #AAA;\n",
              "      --disabled-bg-color: #DDD;\n",
              "  }\n",
              "\n",
              "  [theme=dark] .colab-df-quickchart {\n",
              "      --bg-color: #3B4455;\n",
              "      --fill-color: #D2E3FC;\n",
              "      --hover-bg-color: #434B5C;\n",
              "      --hover-fill-color: #FFFFFF;\n",
              "      --disabled-bg-color: #3B4455;\n",
              "      --disabled-fill-color: #666;\n",
              "  }\n",
              "\n",
              "  .colab-df-quickchart {\n",
              "    background-color: var(--bg-color);\n",
              "    border: none;\n",
              "    border-radius: 50%;\n",
              "    cursor: pointer;\n",
              "    display: none;\n",
              "    fill: var(--fill-color);\n",
              "    height: 32px;\n",
              "    padding: 0;\n",
              "    width: 32px;\n",
              "  }\n",
              "\n",
              "  .colab-df-quickchart:hover {\n",
              "    background-color: var(--hover-bg-color);\n",
              "    box-shadow: 0 1px 2px rgba(60, 64, 67, 0.3), 0 1px 3px 1px rgba(60, 64, 67, 0.15);\n",
              "    fill: var(--button-hover-fill-color);\n",
              "  }\n",
              "\n",
              "  .colab-df-quickchart-complete:disabled,\n",
              "  .colab-df-quickchart-complete:disabled:hover {\n",
              "    background-color: var(--disabled-bg-color);\n",
              "    fill: var(--disabled-fill-color);\n",
              "    box-shadow: none;\n",
              "  }\n",
              "\n",
              "  .colab-df-spinner {\n",
              "    border: 2px solid var(--fill-color);\n",
              "    border-color: transparent;\n",
              "    border-bottom-color: var(--fill-color);\n",
              "    animation:\n",
              "      spin 1s steps(1) infinite;\n",
              "  }\n",
              "\n",
              "  @keyframes spin {\n",
              "    0% {\n",
              "      border-color: transparent;\n",
              "      border-bottom-color: var(--fill-color);\n",
              "      border-left-color: var(--fill-color);\n",
              "    }\n",
              "    20% {\n",
              "      border-color: transparent;\n",
              "      border-left-color: var(--fill-color);\n",
              "      border-top-color: var(--fill-color);\n",
              "    }\n",
              "    30% {\n",
              "      border-color: transparent;\n",
              "      border-left-color: var(--fill-color);\n",
              "      border-top-color: var(--fill-color);\n",
              "      border-right-color: var(--fill-color);\n",
              "    }\n",
              "    40% {\n",
              "      border-color: transparent;\n",
              "      border-right-color: var(--fill-color);\n",
              "      border-top-color: var(--fill-color);\n",
              "    }\n",
              "    60% {\n",
              "      border-color: transparent;\n",
              "      border-right-color: var(--fill-color);\n",
              "    }\n",
              "    80% {\n",
              "      border-color: transparent;\n",
              "      border-right-color: var(--fill-color);\n",
              "      border-bottom-color: var(--fill-color);\n",
              "    }\n",
              "    90% {\n",
              "      border-color: transparent;\n",
              "      border-bottom-color: var(--fill-color);\n",
              "    }\n",
              "  }\n",
              "</style>\n",
              "\n",
              "      <script>\n",
              "        async function quickchart(key) {\n",
              "          const quickchartButtonEl =\n",
              "            document.querySelector('#' + key + ' button');\n",
              "          quickchartButtonEl.disabled = true;  // To prevent multiple clicks.\n",
              "          quickchartButtonEl.classList.add('colab-df-spinner');\n",
              "          try {\n",
              "            const charts = await google.colab.kernel.invokeFunction(\n",
              "                'suggestCharts', [key], {});\n",
              "          } catch (error) {\n",
              "            console.error('Error during call to suggestCharts:', error);\n",
              "          }\n",
              "          quickchartButtonEl.classList.remove('colab-df-spinner');\n",
              "          quickchartButtonEl.classList.add('colab-df-quickchart-complete');\n",
              "        }\n",
              "        (() => {\n",
              "          let quickchartButtonEl =\n",
              "            document.querySelector('#df-1ece4ee2-eccc-45f3-b4f9-cae8864c42a5 button');\n",
              "          quickchartButtonEl.style.display =\n",
              "            google.colab.kernel.accessAllowed ? 'block' : 'none';\n",
              "        })();\n",
              "      </script>\n",
              "    </div>\n",
              "\n",
              "  <div id=\"id_f2b95830-7e8e-456b-9974-c07988e9d68d\">\n",
              "    <style>\n",
              "      .colab-df-generate {\n",
              "        background-color: #E8F0FE;\n",
              "        border: none;\n",
              "        border-radius: 50%;\n",
              "        cursor: pointer;\n",
              "        display: none;\n",
              "        fill: #1967D2;\n",
              "        height: 32px;\n",
              "        padding: 0 0 0 0;\n",
              "        width: 32px;\n",
              "      }\n",
              "\n",
              "      .colab-df-generate:hover {\n",
              "        background-color: #E2EBFA;\n",
              "        box-shadow: 0px 1px 2px rgba(60, 64, 67, 0.3), 0px 1px 3px 1px rgba(60, 64, 67, 0.15);\n",
              "        fill: #174EA6;\n",
              "      }\n",
              "\n",
              "      [theme=dark] .colab-df-generate {\n",
              "        background-color: #3B4455;\n",
              "        fill: #D2E3FC;\n",
              "      }\n",
              "\n",
              "      [theme=dark] .colab-df-generate:hover {\n",
              "        background-color: #434B5C;\n",
              "        box-shadow: 0px 1px 3px 1px rgba(0, 0, 0, 0.15);\n",
              "        filter: drop-shadow(0px 1px 2px rgba(0, 0, 0, 0.3));\n",
              "        fill: #FFFFFF;\n",
              "      }\n",
              "    </style>\n",
              "    <button class=\"colab-df-generate\" onclick=\"generateWithVariable('result_df')\"\n",
              "            title=\"Generate code using this dataframe.\"\n",
              "            style=\"display:none;\">\n",
              "\n",
              "  <svg xmlns=\"http://www.w3.org/2000/svg\" height=\"24px\"viewBox=\"0 0 24 24\"\n",
              "       width=\"24px\">\n",
              "    <path d=\"M7,19H8.4L18.45,9,17,7.55,7,17.6ZM5,21V16.75L18.45,3.32a2,2,0,0,1,2.83,0l1.4,1.43a1.91,1.91,0,0,1,.58,1.4,1.91,1.91,0,0,1-.58,1.4L9.25,21ZM18.45,9,17,7.55Zm-12,3A5.31,5.31,0,0,0,4.9,8.1,5.31,5.31,0,0,0,1,6.5,5.31,5.31,0,0,0,4.9,4.9,5.31,5.31,0,0,0,6.5,1,5.31,5.31,0,0,0,8.1,4.9,5.31,5.31,0,0,0,12,6.5,5.46,5.46,0,0,0,6.5,12Z\"/>\n",
              "  </svg>\n",
              "    </button>\n",
              "    <script>\n",
              "      (() => {\n",
              "      const buttonEl =\n",
              "        document.querySelector('#id_f2b95830-7e8e-456b-9974-c07988e9d68d button.colab-df-generate');\n",
              "      buttonEl.style.display =\n",
              "        google.colab.kernel.accessAllowed ? 'block' : 'none';\n",
              "\n",
              "      buttonEl.onclick = () => {\n",
              "        google.colab.notebook.generateWithVariable('result_df');\n",
              "      }\n",
              "      })();\n",
              "    </script>\n",
              "  </div>\n",
              "\n",
              "    </div>\n",
              "  </div>\n"
            ],
            "application/vnd.google.colaboratory.intrinsic+json": {
              "type": "dataframe",
              "variable_name": "result_df"
            }
          },
          "metadata": {}
        }
      ]
    },
    {
      "cell_type": "code",
      "source": [
        "##Attrition Rate\n",
        "query = \"\"\"\n",
        "SELECT\n",
        "    COUNT(*),\n",
        "    SUM(Attrition = 'Yes'),\n",
        "    SUM(Attrition = 'Yes') * 100.0 / COUNT(*) AS AttritionRate\n",
        "FROM employee;\n",
        "\"\"\"\n",
        "print(\"Overall Attrition Rate:\\n\", pd.read_sql(query, conn))"
      ],
      "metadata": {
        "colab": {
          "base_uri": "https://localhost:8080/"
        },
        "id": "d-I-VzJ_aLSh",
        "outputId": "2568d27a-018f-46f1-e9c0-4e6f3f74d0d0"
      },
      "execution_count": 43,
      "outputs": [
        {
          "output_type": "stream",
          "name": "stdout",
          "text": [
            "Overall Attrition Rate:\n",
            "    COUNT(*)  SUM(Attrition = 'Yes')  AttritionRate\n",
            "0      1470                     237      16.122449\n"
          ]
        }
      ]
    },
    {
      "cell_type": "code",
      "source": [
        "##Attrition by Gender\n",
        "query = \"\"\"\n",
        "SELECT\n",
        "    Gender,\n",
        "    COUNT(*),\n",
        "    SUM(Attrition = 'Yes'),\n",
        "    SUM(Attrition = 'Yes') * 100.0 / COUNT(*) AS AttritionRate\n",
        "FROM employee\n",
        "GROUP BY Gender;\n",
        "\"\"\"\n",
        "print(\"\\nAttrition by Gender:\\n\", pd.read_sql(query, conn))"
      ],
      "metadata": {
        "colab": {
          "base_uri": "https://localhost:8080/"
        },
        "id": "xA_jp4hWdWs1",
        "outputId": "829ccbed-ef91-47d2-cbd4-b92a36498a56"
      },
      "execution_count": 8,
      "outputs": [
        {
          "output_type": "stream",
          "name": "stdout",
          "text": [
            "\n",
            "Attrition by Gender:\n",
            "    Gender  COUNT(*)  SUM(Attrition = 'Yes')  AttritionRate\n",
            "0  Female       588                      87      14.795918\n",
            "1    Male       882                     150      17.006803\n"
          ]
        }
      ]
    },
    {
      "cell_type": "code",
      "source": [
        "##Attrition by Department\n",
        "query = \"\"\"\n",
        "SELECT\n",
        "    Department,\n",
        "    COUNT(*) AS Total,\n",
        "    SUM(Attrition = 'Yes') AS Left,\n",
        "    ROUND(SUM(Attrition = 'Yes') * 100.0 / COUNT(*), 2) AS AttritionRate\n",
        "FROM employee\n",
        "GROUP BY Department;\n",
        "\"\"\"\n",
        "print(\"\\nAttrition by Department:\\n\", pd.read_sql(query, conn))"
      ],
      "metadata": {
        "colab": {
          "base_uri": "https://localhost:8080/"
        },
        "id": "cgTosOWieMGM",
        "outputId": "ce3504b5-67ce-4c73-ddf8-c1a862f7cfba"
      },
      "execution_count": 9,
      "outputs": [
        {
          "output_type": "stream",
          "name": "stdout",
          "text": [
            "\n",
            "Attrition by Department:\n",
            "                Department  Total  Left  AttritionRate\n",
            "0         Human Resources     63    12          19.05\n",
            "1  Research & Development    961   133          13.84\n",
            "2                   Sales    446    92          20.63\n"
          ]
        }
      ]
    },
    {
      "cell_type": "code",
      "source": [
        "##Attrition by Age\n",
        "query = \"\"\"\n",
        "SELECT\n",
        "  CASE\n",
        "    WHEN Age < 26 THEN '18-25'\n",
        "    WHEN Age < 36 THEN '26-35'\n",
        "    WHEN Age < 46 THEN '36-45'\n",
        "    WHEN Age < 56 THEN '46-55'\n",
        "    ELSE '56+'\n",
        "  END AS AgeGroup,\n",
        "\n",
        "  COUNT(*) AS Total,\n",
        "\n",
        "  SUM(Attrition = 'Yes') AS Left,\n",
        "\n",
        "  ROUND(SUM(Attrition = 'Yes') * 100.0 / COUNT(*), 2) AS AttritionRate\n",
        "\n",
        "FROM employee\n",
        "GROUP BY AgeGroup\n",
        "ORDER BY AgeGroup;\n",
        "\"\"\"\n",
        "print(\"\\nAttrition by Age:\\n\", pd.read_sql(query, conn))"
      ],
      "metadata": {
        "colab": {
          "base_uri": "https://localhost:8080/"
        },
        "id": "K__zNM4OeuNh",
        "outputId": "5fa4ca39-c51e-420d-8d44-cdf253142a1e"
      },
      "execution_count": 10,
      "outputs": [
        {
          "output_type": "stream",
          "name": "stdout",
          "text": [
            "\n",
            "Attrition by Age:\n",
            "   AgeGroup  Total  Left  AttritionRate\n",
            "0    18-25    123    44          35.77\n",
            "1    26-35    606   116          19.14\n",
            "2    36-45    468    43           9.19\n",
            "3    46-55    226    26          11.50\n",
            "4      56+     47     8          17.02\n"
          ]
        }
      ]
    },
    {
      "cell_type": "code",
      "source": [
        "##Attrition by YearsAtCompany\n",
        "query = \"\"\"\n",
        "SELECT\n",
        "    -- Group years into bins\n",
        "    CASE\n",
        "        When YearsAtCompany < 5 THEN '0-5'\n",
        "        When YearsAtCompany >= 5 AND YearsAtCompany < 10 THEN '5-10'\n",
        "        When YearsAtCompany >=10 AND YearsAtCompany < 15 THEN '10-15'\n",
        "        When YearsAtCompany >=15 AND YearsAtCompany < 20 THEN '15-20'\n",
        "        ELSE '20+'\n",
        "    END AS YearsAtCompanyGroup,\n",
        "\n",
        "    COUNT(*) AS Total,\n",
        "    SUM(Attrition = 'Yes') AS Left,\n",
        "    ROUND(SUM(Attrition = 'Yes') * 100.0 / COUNT(*), 2) AS AttritionRate\n",
        "FROM employee\n",
        "GROUP BY YearsAtCompanyGroup\n",
        "ORDER BY YearsAtCompanyGroup;\n",
        "\"\"\"\n",
        "print(\"\\nAttrition by Years at Company:\\n\", pd.read_sql(query, conn))"
      ],
      "metadata": {
        "colab": {
          "base_uri": "https://localhost:8080/"
        },
        "id": "dOaL7SjgfjJh",
        "outputId": "0e0d2a9d-4e22-4321-e925-1a640057f0ee"
      },
      "execution_count": 31,
      "outputs": [
        {
          "output_type": "stream",
          "name": "stdout",
          "text": [
            "\n",
            "Attrition by Years at Company:\n",
            "   YearsAtCompanyGroup  Total  Left  AttritionRate\n",
            "0                 0-5    580   141          24.31\n",
            "1               10-15    208    24          11.54\n",
            "2               15-20     65     5           7.69\n",
            "3                 20+     93     9           9.68\n",
            "4                5-10    524    58          11.07\n"
          ]
        }
      ]
    },
    {
      "cell_type": "markdown",
      "source": [
        "# **Why do more people over 50 years old leave the company than people who aged 40-50?**"
      ],
      "metadata": {
        "id": "yXuSylII9yVO"
      }
    },
    {
      "cell_type": "code",
      "source": [
        "query = \"\"\"\n",
        "SELECT\n",
        "  CASE\n",
        "    WHEN Age BETWEEN 40 AND 50 THEN '40-50'\n",
        "    WHEN Age > 50 THEN '50+'\n",
        "  END AS AgeGroup,\n",
        "  COUNT(*) AS Total,\n",
        "  SUM(Attrition = 'Yes') AS Left,\n",
        "  ROUND(SUM(Attrition = 'Yes') * 100.0 / COUNT(*), 2) AS AttritionRate\n",
        "FROM employee\n",
        "WHERE Age >= 40\n",
        "GROUP BY AgeGroup\n",
        "ORDER BY AgeGroup;\n",
        "\"\"\"\n",
        "print(\"\\n:\\n\", pd.read_sql(query, conn))"
      ],
      "metadata": {
        "colab": {
          "base_uri": "https://localhost:8080/"
        },
        "id": "iUopbLVqhH-E",
        "outputId": "08f4a9da-ffd5-49ce-a712-8624dda0da7f"
      },
      "execution_count": 12,
      "outputs": [
        {
          "output_type": "stream",
          "name": "stdout",
          "text": [
            "\n",
            ":\n",
            "   AgeGroup  Total  Left  AttritionRate\n",
            "0    40-50    379    39          10.29\n",
            "1      50+    143    18          12.59\n"
          ]
        }
      ]
    },
    {
      "cell_type": "code",
      "source": [
        "query = \"\"\"\n",
        "SELECT\n",
        "  CASE\n",
        "    WHEN Age BETWEEN 40 AND 50 THEN '40-50'\n",
        "    WHEN Age > 50 THEN '50+'\n",
        "  END AS AgeGroup,\n",
        "  COUNT(*) AS TotalEmployees,\n",
        "  SUM(Attrition = 'Yes') AS LeftEmployees,\n",
        "  ROUND(SUM(Attrition = 'Yes') * 100.0 / COUNT(*), 2) AS AttritionRate\n",
        "FROM employee\n",
        "WHERE Age >= 40\n",
        "GROUP BY AgeGroup;\n",
        "\"\"\"\n",
        "print(\"\\n\\n\", pd.read_sql(query, conn))"
      ],
      "metadata": {
        "colab": {
          "base_uri": "https://localhost:8080/"
        },
        "id": "wyt7C7vJeWEh",
        "outputId": "9523735e-6ac4-4ebf-c2fc-d8c694358b01"
      },
      "execution_count": 14,
      "outputs": [
        {
          "output_type": "stream",
          "name": "stdout",
          "text": [
            "\n",
            "\n",
            "   AgeGroup  TotalEmployees  LeftEmployees  AttritionRate\n",
            "0    40-50             379             39          10.29\n",
            "1      50+             143             18          12.59\n"
          ]
        }
      ]
    },
    {
      "cell_type": "code",
      "source": [
        "query = \"\"\"\n",
        "SELECT\n",
        "  OverTime,\n",
        "  COUNT(*) AS Total,\n",
        "  SUM(Attrition = 'Yes') AS Left,\n",
        "  ROUND(SUM(Attrition = 'Yes') * 100.0 / COUNT(*), 2) AS AttritionRate\n",
        "FROM employee\n",
        "WHERE Age > 50\n",
        "GROUP BY OverTime;\n",
        "\"\"\"\n",
        "print(\"\\n\\n\", pd.read_sql(query, conn))"
      ],
      "metadata": {
        "colab": {
          "base_uri": "https://localhost:8080/"
        },
        "id": "wX85x0BMhhTd",
        "outputId": "e5cc3931-748f-450c-96fc-ea8aff9c740b"
      },
      "execution_count": 25,
      "outputs": [
        {
          "output_type": "stream",
          "name": "stdout",
          "text": [
            "\n",
            "\n",
            "   OverTime  Total  Left  AttritionRate\n",
            "0       No     99     9           9.09\n",
            "1      Yes     44     9          20.45\n"
          ]
        }
      ]
    },
    {
      "cell_type": "code",
      "source": [
        "query = \"\"\"\n",
        "SELECT\n",
        "  OverTime,\n",
        "  COUNT(*) AS Total,\n",
        "  SUM(Attrition = 'Yes') AS Left,\n",
        "  ROUND(SUM(Attrition = 'Yes') * 100.0 / COUNT(*), 2) AS AttritionRate\n",
        "FROM employee\n",
        "WHERE Age > 40 AND Age < 50\n",
        "GROUP BY OverTime;\n",
        "\"\"\"\n",
        "print(\"\\n\\n\", pd.read_sql(query, conn))"
      ],
      "metadata": {
        "colab": {
          "base_uri": "https://localhost:8080/"
        },
        "id": "Hbs3uBVviS2b",
        "outputId": "4e48eedc-f75a-4aad-ed32-98d14240ae8d"
      },
      "execution_count": 24,
      "outputs": [
        {
          "output_type": "stream",
          "name": "stdout",
          "text": [
            "\n",
            "\n",
            "   OverTime  Total  Left  AttritionRate\n",
            "0       No    205    15           7.32\n",
            "1      Yes     87    14          16.09\n"
          ]
        }
      ]
    },
    {
      "cell_type": "markdown",
      "source": [],
      "metadata": {
        "id": "-Dcv5ZMt-oac"
      }
    },
    {
      "cell_type": "markdown",
      "source": [
        "After comparing the Attrition rates of 50+ and 40-50 age groups we see that the attrition rate of 50+ is more. This is because of many reasons one of the main one is Overtime. If we see aged people who are 50+ tend to leave if asked to work overtime compared to people of 40-50 age basket"
      ],
      "metadata": {
        "id": "B1aMDSY096Gs"
      }
    },
    {
      "cell_type": "markdown",
      "source": [
        "# **Why do people with higher pay still leave the company?**"
      ],
      "metadata": {
        "id": "CcHjq894-opL"
      }
    },
    {
      "cell_type": "code",
      "source": [
        "query = \"\"\"\n",
        "SELECT\n",
        "  CASE\n",
        "    WHEN MonthlyIncome < 3000 THEN 'Low'\n",
        "    WHEN MonthlyIncome < 7000 THEN 'Mid'\n",
        "    ELSE 'High'\n",
        "  END AS IncomeGroup,\n",
        "  COUNT(*) AS Total,\n",
        "  SUM(Attrition = 'Yes') AS Left,\n",
        "  ROUND(SUM(Attrition = 'Yes') * 100.0 / COUNT(*), 2) AS AttritionRate\n",
        "FROM employee\n",
        "GROUP BY IncomeGroup\n",
        "ORDER BY AttritionRate DESC;\n",
        "\"\"\"\n",
        "print(\"\\nAttrition by Income:\\n\", pd.read_sql(query, conn))\n"
      ],
      "metadata": {
        "colab": {
          "base_uri": "https://localhost:8080/"
        },
        "id": "JAe3NADgNmAf",
        "outputId": "6ec29bba-c5d7-4afa-9a8b-7755a35a3a94"
      },
      "execution_count": 39,
      "outputs": [
        {
          "output_type": "stream",
          "name": "stdout",
          "text": [
            "\n",
            "Attrition by Income:\n",
            "   IncomeGroup  Total  Left  AttritionRate\n",
            "0         Low    395   113          28.61\n",
            "1         Mid    640    77          12.03\n",
            "2        High    435    47          10.80\n"
          ]
        }
      ]
    },
    {
      "cell_type": "code",
      "source": [
        "query = \"\"\"\n",
        "select\n",
        " OverTime,\n",
        " COUNT(*) AS Total,\n",
        " SUM(Attrition = 'Yes') AS Left,\n",
        " ROUND(SUM(Attrition = 'Yes') * 100.0 / COUNT(*), 2) AS AttritionRate\n",
        "FROM employee\n",
        "where MonthlyIncome >= 7000\n",
        "GROUP BY OverTime;\n",
        "\"\"\"\n",
        "print(\"\\n\\n\", pd.read_sql(query, conn))"
      ],
      "metadata": {
        "colab": {
          "base_uri": "https://localhost:8080/"
        },
        "id": "KfjcMxKvNzPK",
        "outputId": "d862ca88-0d94-4a89-c323-b001eafa9b14"
      },
      "execution_count": 40,
      "outputs": [
        {
          "output_type": "stream",
          "name": "stdout",
          "text": [
            "\n",
            "\n",
            "   OverTime  Total  Left  AttritionRate\n",
            "0       No    311    26           8.36\n",
            "1      Yes    124    21          16.94\n"
          ]
        }
      ]
    },
    {
      "cell_type": "code",
      "source": [
        "query = \"\"\"\n",
        "select\n",
        " WorkLifeBalance,\n",
        " COUNT(*) AS Total,\n",
        " SUM(Attrition = 'Yes') AS Left,\n",
        " ROUND(SUM(Attrition = 'Yes') * 100.0 / COUNT(*), 2) AS AttritionRate\n",
        "FROM employee\n",
        "where MonthlyIncome >= 7000\n",
        "GROUP BY WorkLifeBalance;\n",
        "\"\"\"\n",
        "print(\"\\n\\n\", pd.read_sql(query, conn))"
      ],
      "metadata": {
        "colab": {
          "base_uri": "https://localhost:8080/"
        },
        "id": "oyfRZebkOK4s",
        "outputId": "58915c18-37a5-4dd4-8196-f8e4236138b1"
      },
      "execution_count": 41,
      "outputs": [
        {
          "output_type": "stream",
          "name": "stdout",
          "text": [
            "\n",
            "\n",
            "    WorkLifeBalance  Total  Left  AttritionRate\n",
            "0                1     19     3          15.79\n",
            "1                2    104    13          12.50\n",
            "2                3    264    27          10.23\n",
            "3                4     48     4           8.33\n"
          ]
        }
      ]
    },
    {
      "cell_type": "code",
      "source": [
        "query = \"\"\"\n",
        "select\n",
        " JobSatisfaction,\n",
        " COUNT(*) AS Total,\n",
        " SUM(Attrition = 'Yes') AS Left,\n",
        " ROUND(SUM(Attrition = 'Yes') * 100.0 / COUNT(*), 2) AS AttritionRate\n",
        "FROM employee\n",
        "where MonthlyIncome >= 7000\n",
        "GROUP BY JobSatisfaction;\n",
        "\"\"\"\n",
        "print(\"\\n\\n\", pd.read_sql(query, conn))"
      ],
      "metadata": {
        "colab": {
          "base_uri": "https://localhost:8080/"
        },
        "id": "XgSPUrguObO8",
        "outputId": "980df3ea-24de-4e29-e790-8b5d42765efa"
      },
      "execution_count": 42,
      "outputs": [
        {
          "output_type": "stream",
          "name": "stdout",
          "text": [
            "\n",
            "\n",
            "    JobSatisfaction  Total  Left  AttritionRate\n",
            "0                1     89    14          15.73\n",
            "1                2     85    11          12.94\n",
            "2                3    125     9           7.20\n",
            "3                4    136    13           9.56\n"
          ]
        }
      ]
    },
    {
      "cell_type": "markdown",
      "source": [
        "People with higher pay still leave the company because of reasons like JobSatisfaction, WorkLifeBalance and Overtime which can be seen from above sql query outputs"
      ],
      "metadata": {
        "id": "iQGtBkX7Oo7T"
      }
    },
    {
      "cell_type": "markdown",
      "source": [
        "# **Which factors drive employees who work at company less than 5 years to leave?**"
      ],
      "metadata": {
        "id": "ormBT5Zy-wkd"
      }
    },
    {
      "cell_type": "code",
      "source": [
        "query = \"\"\"\n",
        "SELECT\n",
        "    -- Group years into bins\n",
        "    CASE\n",
        "        When YearsAtCompany < 5 THEN '0-5'\n",
        "        When YearsAtCompany >= 5 AND YearsAtCompany < 10 THEN '5-10'\n",
        "        When YearsAtCompany >=10 AND YearsAtCompany < 15 THEN '10-15'\n",
        "        When YearsAtCompany >=15 AND YearsAtCompany < 20 THEN '15-20'\n",
        "        ELSE '20+'\n",
        "    END AS YearsAtCompanyGroup,\n",
        "\n",
        "    COUNT(*) AS Total,\n",
        "    SUM(Attrition = 'Yes') AS Left,\n",
        "    ROUND(SUM(Attrition = 'Yes') * 100.0 / COUNT(*), 2) AS AttritionRate\n",
        "FROM employee\n",
        "GROUP BY YearsAtCompanyGroup\n",
        "ORDER BY AttritionRate DESC;\n",
        "\"\"\"\n",
        "print(\"\\nAttrition by Years at Company:\\n\", pd.read_sql(query, conn))"
      ],
      "metadata": {
        "colab": {
          "base_uri": "https://localhost:8080/"
        },
        "id": "dg0g78FpB3Bd",
        "outputId": "ee574569-53e1-4498-b848-8b32f181902b"
      },
      "execution_count": 34,
      "outputs": [
        {
          "output_type": "stream",
          "name": "stdout",
          "text": [
            "\n",
            "Attrition by Years at Company:\n",
            "   YearsAtCompanyGroup  Total  Left  AttritionRate\n",
            "0                 0-5    580   141          24.31\n",
            "1               10-15    208    24          11.54\n",
            "2                5-10    524    58          11.07\n",
            "3                 20+     93     9           9.68\n",
            "4               15-20     65     5           7.69\n"
          ]
        }
      ]
    },
    {
      "cell_type": "code",
      "source": [
        "query = \"\"\"\n",
        "SELECT\n",
        " OverTime,\n",
        " COUNT(*) AS Total,\n",
        " SUM(Attrition = 'Yes') AS Left,\n",
        " ROUND(SUM(Attrition = 'Yes') * 100.0 / COUNT(*), 2) AS AttritionRate\n",
        "FROM employee\n",
        "where YearsAtCompany < 5\n",
        "GROUP BY OverTime;\n",
        "\"\"\"\n",
        "print(\"\\n\\n\", pd.read_sql(query, conn))"
      ],
      "metadata": {
        "colab": {
          "base_uri": "https://localhost:8080/"
        },
        "id": "lmrw8hDwLBGx",
        "outputId": "49fc0cfa-7928-4f50-e5bd-236128f4de15"
      },
      "execution_count": 35,
      "outputs": [
        {
          "output_type": "stream",
          "name": "stdout",
          "text": [
            "\n",
            "\n",
            "   OverTime  Total  Left  AttritionRate\n",
            "0       No    406    66          16.26\n",
            "1      Yes    174    75          43.10\n"
          ]
        }
      ]
    },
    {
      "cell_type": "code",
      "source": [
        "query = \"\"\"\n",
        "SELECT\n",
        " WorkLifeBalance,\n",
        " COUNT(*) AS Total,\n",
        " SUM(Attrition = 'Yes') AS Left,\n",
        " ROUND(SUM(Attrition = 'Yes') * 100.0 / COUNT(*), 2) AS AttritionRate\n",
        "FROM employee\n",
        "where YearsAtCompany < 5\n",
        "GROUP BY WorkLifeBalance\n",
        "ORDER BY AttritionRate DESC;\n",
        "\"\"\"\n",
        "print(\"\\n\\n\", pd.read_sql(query, conn))"
      ],
      "metadata": {
        "colab": {
          "base_uri": "https://localhost:8080/"
        },
        "id": "h9eE8FlELTe-",
        "outputId": "6da9a1fa-1e38-408e-f5e3-36848cb816b1"
      },
      "execution_count": 38,
      "outputs": [
        {
          "output_type": "stream",
          "name": "stdout",
          "text": [
            "\n",
            "\n",
            "    WorkLifeBalance  Total  Left  AttritionRate\n",
            "0                1     35    14          40.00\n",
            "1                4     54    16          29.63\n",
            "2                2    134    35          26.12\n",
            "3                3    357    76          21.29\n"
          ]
        }
      ]
    },
    {
      "cell_type": "markdown",
      "source": [
        "If we see the attrition rates of people leaving organisation before 5 years, its the highest compared to others. Main reasons for that are OverTime and WorkLifeBalance as the attrition rate is more for these 2 factors for people leaving company before 5 years"
      ],
      "metadata": {
        "id": "_3pi0CoWL5Bi"
      }
    }
  ]
}